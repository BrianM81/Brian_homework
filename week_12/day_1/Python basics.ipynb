{
 "cells": [
  {
   "cell_type": "code",
   "execution_count": null,
   "metadata": {},
   "outputs": [],
   "source": [
    "#Write a function that takes in a list and returns a two-element list containing the first and last elements of the \n",
    "#inputted list. For example, for input [3, 6, 2,  19], the function should return [3, 19]\n",
    "# initializing list  \n",
    "test_list = [1, 5, 6, 7, 4] \n",
    "  \n",
    "# printing original list  \n",
    "print (\"The original list is : \" +  str(test_list)) \n",
    "  \n",
    "# using List slicing \n",
    "# to get first and last element of list \n",
    "res = test_list[::len(test_list)-1]  \n",
    "  \n",
    "# printing result \n",
    "print (\"The first and last element of list are : \" +  str(res)\n",
    "    "
   ]
  },
  {
   "cell_type": "code",
   "execution_count": null,
   "metadata": {},
   "outputs": [],
   "source": [
    "#Your letters are numbered\n",
    "#Write a function that takes in a sentence and returns a dictionary containing a count of letters and digits. \n",
    "#For example, for input \"hello world! 123\", the function output should be {'digits': 3, 'letters': 10}\n",
    "s = input(\"hello world! 123\")\n",
    "d=l=0\n",
    "for c in s:\n",
    "    if c.isdigit():\n",
    "        d=d+1\n",
    "    elif c.isalpha():\n",
    "        l=l+1\n",
    "    else:\n",
    "        pass\n",
    "print(\"Letters\", l)\n",
    "print(\"Digits\", d)"
   ]
  },
  {
   "cell_type": "code",
   "execution_count": null,
   "metadata": {},
   "outputs": [],
   "source": [
    "#Extension\n",
    "#Write a class to model a bank account in a simple way. The class should have a balance attribute that starts \n",
    "#at a value zero when the account is created, along with methods:\n",
    "#get_balance() - prints balance to screen\n",
    "#deposit(amount) - should deposit any positive amount and print new balance to screen, \n",
    "#or print an error if amount is negative or zero.\n",
    "#withdraw(amount) - should work only if there are sufficient funds in the account, \n",
    "#withdraw any positive amount and print new balance to screen, otherwise it should print an error message.\n",
    "#Create your own bank account object from your class and test that all of your methods work as expected, \n",
    "#including testing for expected errors.\n",
    "\n",
    "class Bank_Account: \n",
    "    def __init__(self): \n",
    "        self.balance=0\n",
    "        print(\"Hello! Welcome to the Bank of Brian\") \n",
    "  \n",
    "    def deposit(self): \n",
    "        amount=float(input(\"Enter amount to be Deposited: \")) \n",
    "        self.balance += amount \n",
    "        print(\"\\n Amount Deposited:\",amount) \n",
    "  \n",
    "    def withdraw(self): \n",
    "        amount = float(input(\"Enter amount to be Withdrawn: \")) \n",
    "        if self.balance>=amount: \n",
    "            self.balance-=amount \n",
    "            print(\"\\n You Withdrew:\", amount) \n",
    "        else: \n",
    "            print(\"\\n Insufficient balance  \") \n",
    "  \n",
    "    def display(self): \n",
    "        print(\"\\n Net Available Balance=\",self.balance) "
   ]
  },
  {
   "cell_type": "code",
   "execution_count": null,
   "metadata": {},
   "outputs": [],
   "source": []
  }
 ],
 "metadata": {
  "kernelspec": {
   "display_name": "Python 3",
   "language": "python",
   "name": "python3"
  },
  "language_info": {
   "codemirror_mode": {
    "name": "ipython",
    "version": 3
   },
   "file_extension": ".py",
   "mimetype": "text/x-python",
   "name": "python",
   "nbconvert_exporter": "python",
   "pygments_lexer": "ipython3",
   "version": "3.7.4"
  }
 },
 "nbformat": 4,
 "nbformat_minor": 2
}
